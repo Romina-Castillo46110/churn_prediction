{
 "cells": [
  {
   "cell_type": "code",
   "execution_count": 1,
   "id": "25431213",
   "metadata": {},
   "outputs": [],
   "source": [
    "import numpy as np\n",
    "import pandas as pd\n",
    "from joblib import load\n",
    "from sklearn.metrics import classification_report, confusion_matrix, roc_auc_score, f1_score, roc_curve\n",
    "from sklearn.linear_model import LogisticRegression\n",
    "from sklearn.ensemble import RandomForestClassifier\n",
    "from xgboost import XGBClassifier"
   ]
  },
  {
   "cell_type": "code",
   "execution_count": 2,
   "id": "0bbecd4d",
   "metadata": {},
   "outputs": [],
   "source": [
    "import sys\n",
    "from pathlib import Path\n",
    "\n",
    "ROOT = Path.cwd().parent\n",
    "sys.path.append(str(ROOT))"
   ]
  },
  {
   "cell_type": "code",
   "execution_count": 3,
   "id": "e0c011ae",
   "metadata": {},
   "outputs": [],
   "source": [
    "from src.preprocessing import (\n",
    "    load_and_clean_data,\n",
    "    split_features_target,\n",
    "    split_data\n",
    ")\n",
    "\n",
    "# Ruta relativa desde notebooks/02_modeling.ipynb\n",
    "df = load_and_clean_data(\"../data/raw/WA_Fn-UseC_-Telco-Customer-Churn.csv\")\n",
    "X, y, cat_cols, num_cols = split_features_target(df)\n",
    "X_train, X_val, X_test, y_train, y_val, y_test = split_data(X, y)"
   ]
  },
  {
   "cell_type": "code",
   "execution_count": 4,
   "id": "1c4c74fa",
   "metadata": {},
   "outputs": [],
   "source": [
    "#Cargar preprocesador y transformar los datos\n",
    "preprocessor = load(\"../models/preprocessor.joblib\")\n",
    "\n",
    "X_train_pre = preprocessor.transform(X_train)\n",
    "X_val_pre = preprocessor.transform(X_val)\n",
    "X_test_pre = preprocessor.transform(X_test)"
   ]
  },
  {
   "cell_type": "code",
   "execution_count": 5,
   "id": "5c980b87",
   "metadata": {},
   "outputs": [],
   "source": [
    "#Modelo 1: Regresión logística\n",
    "logreg = LogisticRegression(max_iter=1000)\n",
    "logreg.fit(X_train_pre, y_train)\n",
    "\n",
    "y_val_pred = logreg.predict(X_val_pre)\n",
    "y_val_proba = logreg.predict_proba(X_val_pre)[:, 1]\n",
    "\n"
   ]
  },
  {
   "cell_type": "code",
   "execution_count": 6,
   "id": "352f3b9d",
   "metadata": {},
   "outputs": [],
   "source": [
    "#Modelo 2: Random Forest\n",
    "rf = RandomForestClassifier(n_estimators=100, random_state=42)\n",
    "rf.fit(X_train_pre, y_train)\n",
    "\n",
    "y_val_pred_rf = rf.predict(X_val_pre)\n",
    "y_val_proba_rf = rf.predict_proba(X_val_pre)[:, 1]"
   ]
  },
  {
   "cell_type": "code",
   "execution_count": 7,
   "id": "469b8b79",
   "metadata": {},
   "outputs": [],
   "source": [
    "#Modelo 3: XGBoost\n",
    "xgb = XGBClassifier(eval_metric='logloss')\n",
    "xgb.fit(X_train_pre, y_train)\n",
    "\n",
    "y_val_pred_xgb = xgb.predict(X_val_pre)\n",
    "y_val_proba_xgb = xgb.predict_proba(X_val_pre)[:, 1]"
   ]
  },
  {
   "cell_type": "code",
   "execution_count": 9,
   "id": "06e7d4fd",
   "metadata": {},
   "outputs": [],
   "source": [
    "def evaluar_modelo(y_true, y_pred, y_proba):\n",
    "    print(\"F1:\", f1_score(y_true, y_pred))\n",
    "    print(\"ROC AUC:\", roc_auc_score(y_true, y_proba))\n",
    "    print(\"Matriz de confusión:\\n\", confusion_matrix(y_true, y_pred))\n",
    "    print(classification_report(y_true, y_pred))"
   ]
  },
  {
   "cell_type": "code",
   "execution_count": 10,
   "id": "10698c8f",
   "metadata": {},
   "outputs": [
    {
     "name": "stdout",
     "output_type": "stream",
     "text": [
      "Regresión logística:\n",
      "F1: 0.5568862275449101\n",
      "ROC AUC: 0.8356313835927753\n",
      "Matriz de confusión:\n",
      " [[925 108]\n",
      " [188 186]]\n",
      "              precision    recall  f1-score   support\n",
      "\n",
      "           0       0.83      0.90      0.86      1033\n",
      "           1       0.63      0.50      0.56       374\n",
      "\n",
      "    accuracy                           0.79      1407\n",
      "   macro avg       0.73      0.70      0.71      1407\n",
      "weighted avg       0.78      0.79      0.78      1407\n",
      "\n"
     ]
    }
   ],
   "source": [
    "print(\"Regresión logística:\")\n",
    "evaluar_modelo(y_val, y_val_pred, y_val_proba)"
   ]
  },
  {
   "cell_type": "code",
   "execution_count": 11,
   "id": "05df9233",
   "metadata": {},
   "outputs": [
    {
     "name": "stdout",
     "output_type": "stream",
     "text": [
      "Random Forest:\n",
      "F1: 0.5226917057902973\n",
      "ROC AUC: 0.8137854543383841\n",
      "Matriz de confusión:\n",
      " [[935  98]\n",
      " [207 167]]\n",
      "              precision    recall  f1-score   support\n",
      "\n",
      "           0       0.82      0.91      0.86      1033\n",
      "           1       0.63      0.45      0.52       374\n",
      "\n",
      "    accuracy                           0.78      1407\n",
      "   macro avg       0.72      0.68      0.69      1407\n",
      "weighted avg       0.77      0.78      0.77      1407\n",
      "\n"
     ]
    }
   ],
   "source": [
    "print(\"Random Forest:\")\n",
    "evaluar_modelo(y_val, y_val_pred_rf, y_val_proba_rf)"
   ]
  },
  {
   "cell_type": "code",
   "execution_count": 12,
   "id": "4f973d7c",
   "metadata": {},
   "outputs": [
    {
     "name": "stdout",
     "output_type": "stream",
     "text": [
      "XGBoost:\n",
      "F1: 0.5369532428355958\n",
      "ROC AUC: 0.8116435696869613\n",
      "Matriz de confusión:\n",
      " [[922 111]\n",
      " [196 178]]\n",
      "              precision    recall  f1-score   support\n",
      "\n",
      "           0       0.82      0.89      0.86      1033\n",
      "           1       0.62      0.48      0.54       374\n",
      "\n",
      "    accuracy                           0.78      1407\n",
      "   macro avg       0.72      0.68      0.70      1407\n",
      "weighted avg       0.77      0.78      0.77      1407\n",
      "\n"
     ]
    }
   ],
   "source": [
    "print(\"XGBoost:\")\n",
    "evaluar_modelo(y_val, y_val_pred_xgb, y_val_proba_xgb)"
   ]
  },
  {
   "cell_type": "code",
   "execution_count": 13,
   "id": "e3044fe0",
   "metadata": {},
   "outputs": [
    {
     "name": "stdout",
     "output_type": "stream",
     "text": [
      "✅ Modelos guardados correctamente en la carpeta 'models/'.\n"
     ]
    }
   ],
   "source": [
    "from joblib import dump\n",
    "\n",
    "# Guardar los modelos entrenados\n",
    "dump(logreg, \"../models/churn_logreg.joblib\")\n",
    "dump(rf, \"../models/churn_rf.joblib\")\n",
    "dump(xgb, \"../models/churn_xgb.joblib\")\n",
    "\n",
    "print(\"✅ Modelos guardados correctamente en la carpeta 'models/'.\")"
   ]
  }
 ],
 "metadata": {
  "kernelspec": {
   "display_name": "venv",
   "language": "python",
   "name": "python3"
  },
  "language_info": {
   "codemirror_mode": {
    "name": "ipython",
    "version": 3
   },
   "file_extension": ".py",
   "mimetype": "text/x-python",
   "name": "python",
   "nbconvert_exporter": "python",
   "pygments_lexer": "ipython3",
   "version": "3.12.3"
  }
 },
 "nbformat": 4,
 "nbformat_minor": 5
}
